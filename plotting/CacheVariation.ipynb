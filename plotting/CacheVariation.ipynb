{
 "cells": [
  {
   "cell_type": "code",
   "execution_count": 123,
   "id": "4c8dcfd0-706e-4d22-a916-d11f1accb8af",
   "metadata": {},
   "outputs": [],
   "source": [
    "# Plot differences in performace for different cache ways compared to 2-way\n",
    "# How do we show 1024?\n",
    "\n",
    "# Maybe start with 256-2 as \"base\", then relative number for each bar.\n",
    "# So 256-2, 256-4, 512-2, 512-4, 1024-2, 1024-4"
   ]
  },
  {
   "cell_type": "code",
   "execution_count": 124,
   "id": "1fa1a847-053a-4038-bebc-5828ebf42e12",
   "metadata": {},
   "outputs": [
    {
     "name": "stdout",
     "output_type": "stream",
     "text": [
      "The autoreload extension is already loaded. To reload it, use:\n",
      "  %reload_ext autoreload\n"
     ]
    }
   ],
   "source": [
    "%load_ext autoreload\n",
    "%autoreload 2"
   ]
  },
  {
   "cell_type": "code",
   "execution_count": 125,
   "id": "cc702b13-f824-4654-9b9e-35afd68d9857",
   "metadata": {},
   "outputs": [],
   "source": [
    "#%matplotlib widget\n",
    "import matplotlib.pyplot as plt\n",
    "from matplotlib.patches import Rectangle\n",
    "from matplotlib.patches import Patch\n",
    "from matplotlib.offsetbox import AnchoredText\n",
    "import pandas as pd\n",
    "import numpy as np\n",
    "from Color import *\n",
    "from operator import truediv, sub\n",
    "from matplotlib.lines import Line2D\n",
    "from matplotlib.ticker import FormatStrFormatter\n",
    "\n",
    "# Matplotlib font configuration\n",
    "from MatplotlibFonts import *\n",
    "\n",
    "# Helpers\n",
    "from BrokenPlot import *\n",
    "\n",
    "# Change the font size\n",
    "rcParams.update({\"font.size\": 13})"
   ]
  },
  {
   "cell_type": "code",
   "execution_count": 126,
   "id": "d58dab9e-a101-4ae9-bdb9-478ca209a7be",
   "metadata": {},
   "outputs": [],
   "source": [
    "%reload_ext autoreload\n",
    "from BenchmarkConfiguration import *\n",
    "from Color import *"
   ]
  },
  {
   "cell_type": "code",
   "execution_count": 127,
   "id": "60fe5881-da20-4667-b7f9-2e2fc1d86d3e",
   "metadata": {},
   "outputs": [],
   "source": [
    "RESULT_DIR='../benchmarks/logs/'"
   ]
  },
  {
   "cell_type": "code",
   "execution_count": 128,
   "id": "396dbff7-4737-46d2-acc4-5ece63c0dd56",
   "metadata": {},
   "outputs": [],
   "source": [
    "Benchmarks = [\n",
    "    'coremark',\n",
    "    'picojpeg',\n",
    "    'aes',\n",
    "    'crc',\n",
    "    'dijkstra',\n",
    "    'sha',\n",
    "]\n",
    "\n",
    "BaseConfigurations = [\n",
    "    'nacho_naive',\n",
    "    'nacho_pw',\n",
    "    'nacho_stcont',\n",
    "    'nacho_pw_st',\n",
    "    'nacho_pw_stcont',\n",
    "    'nacho_clank',\n",
    "    'prowl',\n",
    "    'clank',\n",
    "    'plain_c'\n",
    "]\n",
    "\n",
    "CacheConfigurations = [\n",
    "    '256-2',\n",
    "    '256-4',\n",
    "    '512-2',\n",
    "    '512-4',\n",
    "    '1024-2',\n",
    "    '1024-4'\n",
    "]"
   ]
  },
  {
   "cell_type": "code",
   "execution_count": 129,
   "id": "cdd7f854-de0e-4d01-9c4b-8167238e8128",
   "metadata": {
    "tags": []
   },
   "outputs": [],
   "source": [
    "# Load all the results into a dictionary\n",
    "\n",
    "def loadResult(Results, benchmark, config, cache, postfix='-0-0-final'):\n",
    "    if cache == '0-0':\n",
    "        filename = RESULT_DIR + '/' + benchmark + '-uninstrumented-run-' + config + postfix\n",
    "    else:\n",
    "        filename = RESULT_DIR + '/' + benchmark + '-uninstrumented-run-' + config + '-' + cache + postfix\n",
    "    \n",
    "    #print(filename)\n",
    "    if config not in Results[benchmark]:\n",
    "        Results[benchmark][config] = {}\n",
    "    \n",
    "    # Add the results\n",
    "    Results[benchmark][config][cache] = dict(pd.read_csv(filename, delimiter=\":\", header = None).values)\n",
    "\n",
    "Results = {}\n",
    "\n",
    "for benchmark in Benchmarks:\n",
    "    Results[benchmark] = {}\n",
    "\n",
    "    # Load Nacho results\n",
    "    nacho_caches = [\n",
    "        '256-2',\n",
    "        '256-4',\n",
    "        '512-2',\n",
    "        '512-4',\n",
    "        '1024-2',\n",
    "        '1024-4'\n",
    "    ]\n",
    "    for cache in nacho_caches:\n",
    "        loadResult(Results, benchmark, 'nacho_pw_stcont', cache)\n",
    "        \n",
    "    loadResult(Results, benchmark, 'plain_c', '0-0', '-final')\n",
    "\n",
    "\n",
    "#Results"
   ]
  },
  {
   "cell_type": "code",
   "execution_count": 130,
   "id": "d5a9d872-f0b1-4323-82b0-b94cf91e617d",
   "metadata": {},
   "outputs": [],
   "source": [
    "# Benchmark plots with execution time\n",
    "# Plot each benchmark, each config, two cache configs (256, 512)\n",
    "\n",
    "PlotBenchmarks = Benchmarks\n",
    "PlotConfigurations = BaseConfigurations\n",
    "\n",
    "EntryToPlot='cycles'\n",
    "\n",
    "def getPlotData(PlotData, benchmark, config, cache):\n",
    "    key = cache\n",
    "    if key not in PlotData[benchmark]:\n",
    "        PlotData[benchmark][key] = {}\n",
    "        \n",
    "    PlotData[benchmark][cache] = Results[benchmark][config][cache][EntryToPlot]\n",
    "\n",
    "PlotData = {}\n",
    "for benchmark in PlotBenchmarks:\n",
    "    PlotData[benchmark] = {}\n",
    "    for cache in CacheConfigurations:\n",
    "        getPlotData(PlotData, benchmark, 'nacho_pw_stcont', cache)\n",
    "        \n",
    "    # plain0c\n",
    "    getPlotData(PlotData, benchmark, 'plain_c', '0-0')\n",
    "    \n",
    "    \n",
    "#PlotData\n",
    "PlotDataDF = pd.DataFrame.from_dict(PlotData)"
   ]
  },
  {
   "cell_type": "code",
   "execution_count": 131,
   "id": "3d609c76-d1b8-49c4-9d89-d09b873d2027",
   "metadata": {},
   "outputs": [
    {
     "data": {
      "text/html": [
       "<div>\n",
       "<style scoped>\n",
       "    .dataframe tbody tr th:only-of-type {\n",
       "        vertical-align: middle;\n",
       "    }\n",
       "\n",
       "    .dataframe tbody tr th {\n",
       "        vertical-align: top;\n",
       "    }\n",
       "\n",
       "    .dataframe thead th {\n",
       "        text-align: right;\n",
       "    }\n",
       "</style>\n",
       "<table border=\"1\" class=\"dataframe\">\n",
       "  <thead>\n",
       "    <tr style=\"text-align: right;\">\n",
       "      <th></th>\n",
       "      <th>256-2</th>\n",
       "      <th>256-4</th>\n",
       "      <th>512-2</th>\n",
       "      <th>512-4</th>\n",
       "      <th>1024-2</th>\n",
       "      <th>1024-4</th>\n",
       "    </tr>\n",
       "  </thead>\n",
       "  <tbody>\n",
       "    <tr>\n",
       "      <th>coremark</th>\n",
       "      <td>2.021338</td>\n",
       "      <td>1.885994</td>\n",
       "      <td>1.135269</td>\n",
       "      <td>1.110791</td>\n",
       "      <td>1.072687</td>\n",
       "      <td>1.047155</td>\n",
       "    </tr>\n",
       "    <tr>\n",
       "      <th>picojpeg</th>\n",
       "      <td>2.223742</td>\n",
       "      <td>1.376032</td>\n",
       "      <td>1.912339</td>\n",
       "      <td>1.208053</td>\n",
       "      <td>1.126676</td>\n",
       "      <td>1.110799</td>\n",
       "    </tr>\n",
       "    <tr>\n",
       "      <th>aes</th>\n",
       "      <td>1.349628</td>\n",
       "      <td>1.264211</td>\n",
       "      <td>1.171773</td>\n",
       "      <td>1.169395</td>\n",
       "      <td>1.090533</td>\n",
       "      <td>1.072237</td>\n",
       "    </tr>\n",
       "    <tr>\n",
       "      <th>crc</th>\n",
       "      <td>1.330658</td>\n",
       "      <td>1.295697</td>\n",
       "      <td>1.183768</td>\n",
       "      <td>1.123166</td>\n",
       "      <td>1.135652</td>\n",
       "      <td>1.103411</td>\n",
       "    </tr>\n",
       "    <tr>\n",
       "      <th>dijkstra</th>\n",
       "      <td>2.139620</td>\n",
       "      <td>2.082425</td>\n",
       "      <td>2.016440</td>\n",
       "      <td>2.000653</td>\n",
       "      <td>1.811144</td>\n",
       "      <td>1.806752</td>\n",
       "    </tr>\n",
       "    <tr>\n",
       "      <th>sha</th>\n",
       "      <td>1.684464</td>\n",
       "      <td>1.783275</td>\n",
       "      <td>1.322398</td>\n",
       "      <td>1.465663</td>\n",
       "      <td>1.161918</td>\n",
       "      <td>1.163535</td>\n",
       "    </tr>\n",
       "  </tbody>\n",
       "</table>\n",
       "</div>"
      ],
      "text/plain": [
       "             256-2     256-4     512-2     512-4    1024-2    1024-4\n",
       "coremark  2.021338  1.885994  1.135269  1.110791  1.072687  1.047155\n",
       "picojpeg  2.223742  1.376032  1.912339  1.208053  1.126676  1.110799\n",
       "aes       1.349628  1.264211  1.171773  1.169395  1.090533  1.072237\n",
       "crc       1.330658  1.295697  1.183768  1.123166  1.135652  1.103411\n",
       "dijkstra  2.139620  2.082425  2.016440  2.000653  1.811144  1.806752\n",
       "sha       1.684464  1.783275  1.322398  1.465663  1.161918  1.163535"
      ]
     },
     "execution_count": 131,
     "metadata": {},
     "output_type": "execute_result"
    }
   ],
   "source": [
    "NormPlotDataDF = PlotDataDF / PlotDataDF.T['0-0']\n",
    "NormPlotDataDF = NormPlotDataDF.drop('0-0')\n",
    "NormPlotDataDF = NormPlotDataDF.T\n",
    "NormPlotDataDF"
   ]
  },
  {
   "cell_type": "code",
   "execution_count": 132,
   "id": "4d0e0373-d14c-416d-ba5c-db35b26e1f7f",
   "metadata": {},
   "outputs": [
    {
     "name": "stdout",
     "output_type": "stream",
     "text": [
      "Colors: ['#464B75', '#464B75', '#0077BB', '#0077BB', '#00A6D6', '#00A6D6']\n",
      "Hatches: ['', '\\\\\\\\\\\\', '', '\\\\\\\\\\\\', '', '\\\\\\\\\\\\']\n"
     ]
    }
   ],
   "source": [
    "%reload_ext autoreload\n",
    "from BenchmarkConfiguration import *\n",
    "from Color import *\n",
    "\n",
    "# Colors\n",
    "ColorMap = {\n",
    "    '256-2': Color['darkblue'],\n",
    "    '256-4': Color['darkblue'],\n",
    "    '512-2': Color['blue'],\n",
    "    '512-4': Color['blue'],\n",
    "    '1024-2': Color['lightblue'],\n",
    "    '1024-4': Color['lightblue'],\n",
    "}\n",
    "\n",
    "way_2_hatch = ''\n",
    "way_4_hatch = '\\\\\\\\\\\\'\n",
    "HatchMap = {\n",
    "    '256-2': way_2_hatch,\n",
    "    '256-4': way_4_hatch,\n",
    "    '512-2': way_2_hatch,\n",
    "    '512-4': way_4_hatch,\n",
    "    '1024-2': way_2_hatch,\n",
    "    '1024-4': way_4_hatch,\n",
    "}\n",
    "\n",
    "color_list = []\n",
    "hatch_list = []\n",
    "for cfg in NormPlotDataDF:  \n",
    "    color_list += [ColorMap[cfg]]\n",
    "    hatch_list += [HatchMap[cfg]]\n",
    "    \n",
    "print('Colors:', color_list)\n",
    "print('Hatches:', hatch_list)"
   ]
  },
  {
   "cell_type": "code",
   "execution_count": 133,
   "id": "6b26f921-84fb-4a50-a0ca-00a9b88aed50",
   "metadata": {},
   "outputs": [
    {
     "data": {
      "image/png": "[encoded data removed]",
      "text/plain": [
       "<Figure size 432x180 with 1 Axes>"
      ]
     },
     "metadata": {
      "needs_background": "light"
     },
     "output_type": "display_data"
    }
   ],
   "source": [
    "\n",
    "# Execution time plot\n",
    "fig = plt.figure(figsize=(6, 2.5))\n",
    "ax = fig.add_subplot(111)\n",
    "\n",
    "NormPlotDataDF.plot(kind='bar', ax=ax, legend=None, width=0.8, color=color_list, edgecolor='white', linewidth=1)\n",
    "\n",
    "applyHatches(Benchmarks, hatch_list, ax)\n",
    "\n",
    "#\n",
    "# Add custom legend (manual way)\n",
    "#\n",
    " \n",
    "# Config legend\n",
    "configs = ['256\\,B', '512\\,B', '1024\\,B']\n",
    "config_colors = [ColorMap['256-2'], ColorMap['512-2'], ColorMap['1024-2']]\n",
    "\n",
    "handles = []\n",
    "for idx, l in enumerate(configs):\n",
    "    handles.append(Patch(label=l, color=config_colors[idx]))\n",
    "legend_configs = plt.legend(handles=handles, loc='lower left', ncol=4, bbox_to_anchor = (-0.018, 0.99), \n",
    "                            fancybox=True, fontsize=12, columnspacing=0.8, handletextpad=0.3);\n",
    "ax.add_artist(legend_configs)\n",
    "\n",
    "# Cache legends\n",
    "ways = ['2-way', '4-way']\n",
    "ways_hatches = [way_2_hatch, way_4_hatch]\n",
    "\n",
    "# Config legend\n",
    "\n",
    "handles = []\n",
    "for idx, l in enumerate(ways):\n",
    "    handles.append(Patch(label=l, hatch=ways_hatches[idx], facecolor='none', edgecolor='black'))\n",
    "way_configs = plt.legend(handles=handles, loc='lower left', ncol=2, bbox_to_anchor = (0.595, 0.99), \n",
    "                           fancybox=True, fontsize=12, columnspacing=0.8, handletextpad=0.3);\n",
    "ax.add_artist(way_configs)\n",
    "\n",
    "# Plotting\n",
    "ax.set_ylabel(\"normalized execution time\")\n",
    "\n",
    "plt.subplots_adjust(hspace=0.15)\n",
    "\n",
    "plt.xticks(rotation=0)\n",
    "#plt.tight_layout()\n",
    "plt.show()"
   ]
  },
  {
   "cell_type": "code",
   "execution_count": 134,
   "id": "2e2db6e9-3538-4c88-bbc4-25edda387836",
   "metadata": {},
   "outputs": [],
   "source": [
    "# Save the figure\n",
    "ax.get_figure().savefig('plots/benchmark-exploration.pdf', bbox_inches='tight')"
   ]
  },
  {
   "cell_type": "code",
   "execution_count": null,
   "id": "26e756b9-b179-49ad-8b95-91e19aba56e4",
   "metadata": {},
   "outputs": [],
   "source": []
  }
 ],
 "metadata": {
  "kernelspec": {
   "display_name": "Python 3 (ipykernel)",
   "language": "python",
   "name": "python3"
  },
  "language_info": {
   "codemirror_mode": {
    "name": "ipython",
    "version": 3
   },
   "file_extension": ".py",
   "mimetype": "text/x-python",
   "name": "python",
   "nbconvert_exporter": "python",
   "pygments_lexer": "ipython3",
   "version": "3.10.6"
  }
 },
 "nbformat": 4,
 "nbformat_minor": 5
}
