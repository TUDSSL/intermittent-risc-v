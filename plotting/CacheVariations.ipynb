{
 "cells": [
  {
   "cell_type": "code",
   "execution_count": 41,
   "id": "similar-tampa",
   "metadata": {
    "scrolled": true
   },
   "outputs": [
    {
     "name": "stdout",
     "output_type": "stream",
     "text": [
      "The autoreload extension is already loaded. To reload it, use:\n",
      "  %reload_ext autoreload\n"
     ]
    }
   ],
   "source": [
    "%load_ext autoreload\n",
    "%autoreload 2\n",
    "%config InlineBackend.figure_format = 'retina'\n",
    "\n",
    "# Enable multiple cell outputs\n",
    "from IPython.core.interactiveshell import InteractiveShell\n",
    "InteractiveShell.ast_node_interactivity = 'all'"
   ]
  },
  {
   "cell_type": "code",
   "execution_count": 178,
   "id": "small-anatomy",
   "metadata": {},
   "outputs": [],
   "source": [
    "#%matplotlib widget\n",
    "import matplotlib.pyplot as plt\n",
    "from matplotlib.patches import Rectangle\n",
    "from matplotlib.patches import Patch\n",
    "import pandas as pd\n",
    "import numpy as np\n",
    "from Color import *\n",
    "from operator import truediv\n",
    "\n",
    "# Matplotlib font configuration\n",
    "from MatplotlibFonts import *\n",
    "\n",
    "# Change the font size\n",
    "rcParams.update({\"font.size\": 15})"
   ]
  },
  {
   "cell_type": "code",
   "execution_count": 3,
   "id": "secondary-woman",
   "metadata": {},
   "outputs": [],
   "source": [
    "RESULT_DIR='../icemu/log/'"
   ]
  },
  {
   "cell_type": "code",
   "execution_count": 172,
   "id": "awful-conjunction",
   "metadata": {},
   "outputs": [],
   "source": [
    "# Benchmarks in order\n",
    "Benchmarks = [\n",
    "    'coremark',\n",
    "    'sha',\n",
    "    'crc',\n",
    "    'aes',\n",
    "    'dijkstra',\n",
    "    'picojpeg'\n",
    "]\n",
    "\n",
    "# Configurations in order\n",
    "Configurations = [\n",
    "    'nacho-naive',\n",
    "    'nacho-pw',\n",
    "    'nacho-clank',\n",
    "    'prowl'\n",
    "]\n",
    "\n",
    "Stats = [\n",
    "    'checkpoints','cycle count','last checkpoint','dirty ratio','cause'\n",
    "]\n",
    "\n",
    "CacheConfig = [ \"-512-2-\", \"-256-2-\", \"-1024-2-\"]\n",
    "\n",
    "FinalStats = [\n",
    "    'cache_miss', \n",
    "    'cache_hit', \n",
    "    'cache_read', \n",
    "    'cache_write', \n",
    "    'cache_cuckoo', \n",
    "    'cache_checkpoint', \n",
    "    'nvm_reads_no_cache', \n",
    "    'nvm_writes_no_cache', \n",
    "    'nvm_reads', \n",
    "    'nvm_writes', \n",
    "    'checkpoint', \n",
    "    'checkpoint_war', \n",
    "    'checkpoint_dirty', \n",
    "    'checkpoint_period', \n",
    "    'checkpoint_max_cycles', \n",
    "    'hints_given', \n",
    "    'max_dirty_ratio', \n",
    "    'cuckoo_iter'\n",
    "]\n",
    "\n",
    "from BenchmarkConfiguration import *"
   ]
  },
  {
   "cell_type": "code",
   "execution_count": 6,
   "id": "650e4fed",
   "metadata": {},
   "outputs": [
    {
     "data": {
      "text/html": [
       "<div>\n",
       "<style scoped>\n",
       "    .dataframe tbody tr th:only-of-type {\n",
       "        vertical-align: middle;\n",
       "    }\n",
       "\n",
       "    .dataframe tbody tr th {\n",
       "        vertical-align: top;\n",
       "    }\n",
       "\n",
       "    .dataframe thead th {\n",
       "        text-align: right;\n",
       "    }\n",
       "</style>\n",
       "<table border=\"1\" class=\"dataframe\">\n",
       "  <thead>\n",
       "    <tr style=\"text-align: right;\">\n",
       "      <th></th>\n",
       "      <th>cycle count</th>\n",
       "      <th>last checkpoint</th>\n",
       "      <th>dirty ratio</th>\n",
       "      <th>cause</th>\n",
       "    </tr>\n",
       "    <tr>\n",
       "      <th>checkpoints</th>\n",
       "      <th></th>\n",
       "      <th></th>\n",
       "      <th></th>\n",
       "      <th></th>\n",
       "    </tr>\n",
       "  </thead>\n",
       "  <tbody>\n",
       "    <tr>\n",
       "      <th>1</th>\n",
       "      <td>2909</td>\n",
       "      <td>2909</td>\n",
       "      <td>0.359375</td>\n",
       "      <td>0</td>\n",
       "    </tr>\n",
       "    <tr>\n",
       "      <th>2</th>\n",
       "      <td>6970</td>\n",
       "      <td>4061</td>\n",
       "      <td>0.117188</td>\n",
       "      <td>0</td>\n",
       "    </tr>\n",
       "    <tr>\n",
       "      <th>3</th>\n",
       "      <td>7086</td>\n",
       "      <td>116</td>\n",
       "      <td>0.031250</td>\n",
       "      <td>0</td>\n",
       "    </tr>\n",
       "    <tr>\n",
       "      <th>4</th>\n",
       "      <td>7125</td>\n",
       "      <td>39</td>\n",
       "      <td>0.031250</td>\n",
       "      <td>0</td>\n",
       "    </tr>\n",
       "    <tr>\n",
       "      <th>5</th>\n",
       "      <td>7164</td>\n",
       "      <td>39</td>\n",
       "      <td>0.031250</td>\n",
       "      <td>0</td>\n",
       "    </tr>\n",
       "    <tr>\n",
       "      <th>...</th>\n",
       "      <td>...</td>\n",
       "      <td>...</td>\n",
       "      <td>...</td>\n",
       "      <td>...</td>\n",
       "    </tr>\n",
       "    <tr>\n",
       "      <th>146</th>\n",
       "      <td>199740</td>\n",
       "      <td>133</td>\n",
       "      <td>0.031250</td>\n",
       "      <td>0</td>\n",
       "    </tr>\n",
       "    <tr>\n",
       "      <th>147</th>\n",
       "      <td>199778</td>\n",
       "      <td>38</td>\n",
       "      <td>0.031250</td>\n",
       "      <td>0</td>\n",
       "    </tr>\n",
       "    <tr>\n",
       "      <th>148</th>\n",
       "      <td>199816</td>\n",
       "      <td>38</td>\n",
       "      <td>0.031250</td>\n",
       "      <td>0</td>\n",
       "    </tr>\n",
       "    <tr>\n",
       "      <th>149</th>\n",
       "      <td>199919</td>\n",
       "      <td>103</td>\n",
       "      <td>0.023438</td>\n",
       "      <td>0</td>\n",
       "    </tr>\n",
       "    <tr>\n",
       "      <th>150</th>\n",
       "      <td>207511</td>\n",
       "      <td>7592</td>\n",
       "      <td>0.312500</td>\n",
       "      <td>0</td>\n",
       "    </tr>\n",
       "  </tbody>\n",
       "</table>\n",
       "<p>150 rows × 4 columns</p>\n",
       "</div>"
      ],
      "text/plain": [
       "             cycle count  last checkpoint  dirty ratio  cause\n",
       "checkpoints                                                  \n",
       "1                   2909             2909     0.359375      0\n",
       "2                   6970             4061     0.117188      0\n",
       "3                   7086              116     0.031250      0\n",
       "4                   7125               39     0.031250      0\n",
       "5                   7164               39     0.031250      0\n",
       "...                  ...              ...          ...    ...\n",
       "146               199740              133     0.031250      0\n",
       "147               199778               38     0.031250      0\n",
       "148               199816               38     0.031250      0\n",
       "149               199919              103     0.023438      0\n",
       "150               207511             7592     0.312500      0\n",
       "\n",
       "[150 rows x 4 columns]"
      ]
     },
     "execution_count": 6,
     "metadata": {},
     "output_type": "execute_result"
    }
   ],
   "source": [
    "df = {}\n",
    "df['nacho-naive'] = {}\n",
    "df['nacho-naive']['aes'] = pd.read_csv(RESULT_DIR + \"aes\" + \"-nacho-clank\" + CacheConfig[0] + \"cont\").set_index(\"checkpoints\")\n",
    "df['nacho-naive']['aes']"
   ]
  },
  {
   "cell_type": "code",
   "execution_count": 19,
   "id": "enabling-sword",
   "metadata": {},
   "outputs": [],
   "source": [
    "# Load the benchmarks\n",
    "def load_cont_stats(bench, config, cache):\n",
    "    file = RESULT_DIR + bench + \"-\" + config + cache\n",
    "    return pd.read_csv(file + \"cont\").set_index(\"checkpoints\")\n",
    "\n",
    "def load_final_stats(bench, config, cache):\n",
    "    file = RESULT_DIR + bench + \"-\" + config + cache\n",
    "    return dict(pd.read_csv(file + \"final\", delimiter=\":\", header = None).values)\n",
    "\n",
    "cont_stats = {}\n",
    "final_stats = {}\n",
    "for cache in CacheConfig:\n",
    "    cont_stats[cache] = {}\n",
    "    final_stats[cache] = {}\n",
    "    for config in Configurations:\n",
    "        cont_stats[cache][config] = {}\n",
    "        final_stats[cache][config] = {}\n",
    "        for bench in Benchmarks:\n",
    "            cont_stats[cache][config][bench] = load_cont_stats(bench, config, cache)\n",
    "            final_stats[cache][config][bench] = load_final_stats(bench, config, cache)"
   ]
  },
  {
   "cell_type": "code",
   "execution_count": 22,
   "id": "f7c23556",
   "metadata": {},
   "outputs": [
    {
     "data": {
      "text/plain": [
       "{'cache_miss': 1175074.0,\n",
       " 'cache_hit': 2441574.0,\n",
       " 'cache_read': 6976880.0,\n",
       " 'cache_write': 2711065.0,\n",
       " 'cache_cuckoo': 8551459.0,\n",
       " 'cache_checkpoint': 2595580.0,\n",
       " 'nvm_reads_no_cache': 8012757.0,\n",
       " 'nvm_writes_no_cache': 2711065.0,\n",
       " 'nvm_reads': 1035877.0,\n",
       " 'nvm_writes': 2622922.0,\n",
       " 'checkpoint': 12803.0,\n",
       " 'checkpoint_war': 12768.0,\n",
       " 'checkpoint_dirty': 0.0,\n",
       " 'checkpoint_period': 35.0,\n",
       " 'checkpoint_max_cycles': 1000504.0,\n",
       " 'hints_given': 0.0,\n",
       " 'max_dirty_ratio': 0.882812,\n",
       " 'cuckoo_iter': 1907455.0}"
      ]
     },
     "execution_count": 22,
     "metadata": {},
     "output_type": "execute_result"
    }
   ],
   "source": [
    "final_stats['-512-2-']['prowl']['sha']\n"
   ]
  },
  {
   "cell_type": "code",
   "execution_count": 275,
   "id": "b59f9800",
   "metadata": {},
   "outputs": [],
   "source": [
    "from Color import *\n",
    "\n",
    "X = np.arange(len(Benchmarks))\n",
    "step_size = 1 / (len(Configurations) + 1) \n",
    "\n",
    "cache_config_used = None\n",
    "\n",
    "def fetchNormalizingFactor(bmark, requested_stats):\n",
    "    normalizing_factor = []\n",
    "    for b in final_stats[cache_config_used][bmark]:\n",
    "        val = 0\n",
    "        for e in requested_stats:\n",
    "            val = val + final_stats[cache_config_used][bmark][b][e]\n",
    "        \n",
    "        normalizing_factor.append(val)\n",
    "\n",
    "    return normalizing_factor\n",
    "\n",
    "\n",
    "def plotStatPerBenchmark(ax, requested_stats, normalizing_bmark, title, mean_stat = \"dirty_ratio\"):\n",
    "    step = 0.00\n",
    "    idx_work = 0\n",
    "    put_a_x = 0\n",
    "    \n",
    "    ax.set_ylabel('Normalized ratio')\n",
    "    ax.set_title(title + ' normalized to ' + normalizing_bmark)\n",
    "\n",
    "    normalize = fetchNormalizingFactor(normalizing_bmark, requested_stats)\n",
    "    \n",
    "    # For each work\n",
    "    for works in final_stats[cache_config_used]:        \n",
    "        to_plot = np.zeros(len(Benchmarks))\n",
    "        idx_stat = 0\n",
    "        \n",
    "        # For each stack in the bar plot - stats\n",
    "        for stats in requested_stats:\n",
    "#             print(\"For \" + str(stats))\n",
    "            curr_stats = []\n",
    "            \n",
    "            # For each bmark\n",
    "            for bmarks in final_stats[cache_config_used][works]:\n",
    "                curr_stats.append(final_stats[cache_config_used][works][bmarks][stats])\n",
    "                \n",
    "            # Normalize the stats\n",
    "            curr_stats = list(map(truediv, curr_stats, normalize))\n",
    "            \n",
    "            # plot the stacked bar\n",
    "            line = ax.bar(X + step,\n",
    "                           curr_stats,\n",
    "                           bottom = to_plot,\n",
    "                           linewidth = 1,\n",
    "                           joinstyle = 'miter',\n",
    "                        #    hatch = patterns[idx_stat],\n",
    "                        #    color = Color[list(Color.keys())[idx_stat]],\n",
    "                           color = StackedBarColors[idx_work][3 - idx_stat],\n",
    "                           alpha = 1 - 0.15 * idx_stat,\n",
    "                           edgecolor = 'white',\n",
    "                           width = 4.5 * step_size / 5)\n",
    "            \n",
    "            # increment the stack\n",
    "            to_plot = to_plot + curr_stats\n",
    "\n",
    "            # N colors for N stats\n",
    "            idx_stat = idx_stat + 1\n",
    "            # print(idx_stat)\n",
    "        \n",
    "        s = 0\n",
    "        for i in to_plot:\n",
    "            if (i == 0):\n",
    "                ax.text(s, 0, \"x\",\n",
    "                        color = Color['red'],\n",
    "                        fontsize = 'x-large')\n",
    "            s = s + 1\n",
    "        \n",
    "        # Three colors for 3 works\n",
    "        idx_work = idx_work + 1\n",
    "        # print(idx_work)\n",
    "\n",
    "        # Separating each bmark\n",
    "        step = step + step_size"
   ]
  },
  {
   "cell_type": "code",
   "execution_count": 276,
   "id": "a3a5887c",
   "metadata": {},
   "outputs": [],
   "source": [
    "def plotAvgLineAndLegend(ax, line_data=None):\n",
    "    if (line_data is not None):\n",
    "        for work in final_stats[cache_config_used]:\n",
    "            points = []\n",
    "            points_max = []\n",
    "            for bmark in cont_stats[cache_config_used][work]:\n",
    "                sum_val = np.asarray(cont_stats[cache_config_used][work][bmark][line_data].values).sum()\n",
    "                if sum_val == 0:\n",
    "                    points.append(0)\n",
    "                    points_max.append(1)\n",
    "                    continue\n",
    "                avg_val = np.asarray(cont_stats[cache_config_used][work][bmark][line_data].values).mean()\n",
    "                max_val = np.asarray(cont_stats[cache_config_used][work][bmark][line_data].values).max()\n",
    "                points.append(avg_val)\n",
    "                points_max.append(max_val)\n",
    "                \n",
    "            points = list(map(truediv, points, points_max))\n",
    "\n",
    "            ax.plot(X + step_size, points, '-o', label=work + '\\navg ' + line_data)"
   ]
  },
  {
   "cell_type": "markdown",
   "id": "24b8fea3",
   "metadata": {},
   "source": [
    "# 512Kb cache for different stats"
   ]
  },
  {
   "cell_type": "code",
   "execution_count": 277,
   "id": "58a4704b",
   "metadata": {},
   "outputs": [
    {
     "data": {
      "text/plain": [
       "(-0.25, 5.85)"
      ]
     },
     "execution_count": 277,
     "metadata": {},
     "output_type": "execute_result"
    },
    {
     "data": {
      "text/plain": [
       "(-0.25, 5.85)"
      ]
     },
     "execution_count": 277,
     "metadata": {},
     "output_type": "execute_result"
    },
    {
     "data": {
      "text/plain": [
       "(-0.25, 5.85)"
      ]
     },
     "execution_count": 277,
     "metadata": {},
     "output_type": "execute_result"
    },
    {
     "data": {
      "text/plain": [
       "[<matplotlib.axis.XTick at 0x7f1673285670>,\n",
       " <matplotlib.axis.XTick at 0x7f1673285640>,\n",
       " <matplotlib.axis.XTick at 0x7f167321e8b0>,\n",
       " <matplotlib.axis.XTick at 0x7f1673210610>,\n",
       " <matplotlib.axis.XTick at 0x7f167322c3d0>,\n",
       " <matplotlib.axis.XTick at 0x7f167322cb20>]"
      ]
     },
     "execution_count": 277,
     "metadata": {},
     "output_type": "execute_result"
    },
    {
     "data": {
      "text/plain": [
       "Text(60.3029478080246, 0.5, 'Normalized ')"
      ]
     },
     "execution_count": 277,
     "metadata": {},
     "output_type": "execute_result"
    },
    {
     "data": {
      "text/plain": [
       "Text(0.5, 1.0, 'test')"
      ]
     },
     "execution_count": 277,
     "metadata": {},
     "output_type": "execute_result"
    },
    {
     "data": {
      "image/png": "[encoded data removed]",
      "text/plain": [
       "<Figure size 720x864 with 3 Axes>"
      ]
     },
     "metadata": {
      "image/png": {
       "height": 896,
       "width": 719
      },
      "needs_background": "light"
     },
     "output_type": "display_data"
    }
   ],
   "source": [
    "cache_config_used = \"-512-2-\"\n",
    "fig, ax = plt.subplots(nrows=3, ncols=1, sharex=True, figsize=(10,12));\n",
    "fig.tight_layout(pad=1);\n",
    "\n",
    "for a in ax:\n",
    "    # a.set_ylim(bottom=0, top=1.8)\n",
    "    a.set_xlim(-0.25,5.85)\n",
    "    a.margins(x=0)\n",
    "    a.spines['right'].set_visible(False)\n",
    "    a.spines['top'].set_visible(False)\n",
    "\n",
    "ax[0].set_xticks(X + 0.25, Benchmarks);\n",
    "\n",
    "ax[0].set_ylabel('Normalized ');\n",
    "ax[0].set_title('test');\n",
    "\n",
    "\n",
    "plotStatPerBenchmark(ax[0], ['nvm_reads', 'nvm_writes'],\n",
    "                     'nacho-clank',\n",
    "                     \"Non-volatile memory accesses\");\n",
    "\n",
    "plotStatPerBenchmark(ax[1], ['cache_read', \n",
    "                      'cache_write',\n",
    "                      'cache_checkpoint'], 'nacho-clank',\n",
    "                      'Volatile memory accesses');\n",
    "\n",
    "plotStatPerBenchmark(ax[2], ['checkpoint_war', \n",
    "                      'checkpoint_dirty', \n",
    "                      'checkpoint_period',], 'nacho-naive',\n",
    "                      'Number of checkpoints')\n",
    "\n",
    "# Add invisible data to add another legend\n",
    "n=[]\n",
    "h,l = ax[1].get_legend_handles_labels()\n",
    "labels = Configurations\n",
    "\n",
    "for i in range(len(Benchmarks)):\n",
    "    n.append(ax[1].bar(0, 0, color=StackedBarColors[i][3]))\n",
    "\n",
    "# l1 = axTop.legend(h[:len(Benchmarks)], l[:len(Benchmarks)],\n",
    "#             bbox_to_anchor=(0., -0.222, 1., .102), \n",
    "#             loc='center right',\n",
    "#             ncol=3,\n",
    "#             borderaxespad=0., mode=\"expand\")\n",
    "\n",
    "if labels is not None:\n",
    "    l2 = plt.legend(n, labels, bbox_to_anchor=(0., -0.222, 1., .102), \n",
    "            loc='center',\n",
    "            ncol=4) \n",
    "# axTop.add_artist(l2)"
   ]
  },
  {
   "cell_type": "markdown",
   "id": "749fff98",
   "metadata": {},
   "source": [
    "# Stats for different caches"
   ]
  },
  {
   "cell_type": "code",
   "execution_count": 325,
   "id": "c7c3612e",
   "metadata": {},
   "outputs": [
    {
     "data": {
      "text/plain": [
       "(0.0, 1.0)"
      ]
     },
     "execution_count": 325,
     "metadata": {},
     "output_type": "execute_result"
    },
    {
     "data": {
      "text/plain": [
       "(-0.25, 5.85)"
      ]
     },
     "execution_count": 325,
     "metadata": {},
     "output_type": "execute_result"
    },
    {
     "data": {
      "text/plain": [
       "(0.0, 1.0)"
      ]
     },
     "execution_count": 325,
     "metadata": {},
     "output_type": "execute_result"
    },
    {
     "data": {
      "text/plain": [
       "(-0.25, 5.85)"
      ]
     },
     "execution_count": 325,
     "metadata": {},
     "output_type": "execute_result"
    },
    {
     "data": {
      "text/plain": [
       "(0.0, 1.0)"
      ]
     },
     "execution_count": 325,
     "metadata": {},
     "output_type": "execute_result"
    },
    {
     "data": {
      "text/plain": [
       "(-0.25, 5.85)"
      ]
     },
     "execution_count": 325,
     "metadata": {},
     "output_type": "execute_result"
    },
    {
     "data": {
      "text/plain": [
       "[<matplotlib.axis.XTick at 0x7f164dcd01c0>,\n",
       " <matplotlib.axis.XTick at 0x7f164dcd0190>,\n",
       " <matplotlib.axis.XTick at 0x7f164dc653d0>,\n",
       " <matplotlib.axis.XTick at 0x7f164dbef790>,\n",
       " <matplotlib.axis.XTick at 0x7f164dbf6040>,\n",
       " <matplotlib.axis.XTick at 0x7f164dbf6670>]"
      ]
     },
     "execution_count": 325,
     "metadata": {},
     "output_type": "execute_result"
    },
    {
     "data": {
      "image/png": "[encoded data removed]",
      "text/plain": [
       "<Figure size 720x864 with 3 Axes>"
      ]
     },
     "metadata": {
      "image/png": {
       "height": 896,
       "width": 712
      },
      "needs_background": "light"
     },
     "output_type": "display_data"
    }
   ],
   "source": [
    "\n",
    "fig, ax = plt.subplots(nrows=3, ncols=1, sharex=True, figsize=(10,12));\n",
    "fig.tight_layout(pad=1);\n",
    "ylegend = 1.0\n",
    "for a in ax:\n",
    "    a.set_ylim(auto=True)\n",
    "    a.set_xlim(-0.25,5.85);\n",
    "    a.margins(x=0);\n",
    "    a.spines['right'].set_visible(False);\n",
    "    a.spines['top'].set_visible(False);\n",
    "\n",
    "ax[0].set_xticks(X + 0.25, Benchmarks);\n",
    "isCheckpoints = False\n",
    "\n",
    "# Uncomment/change what stats which are needed to be plotted\n",
    "# stats_plotted = ['cache_read', 'cache_write', 'cache_checkpoint']\n",
    "# stats_desc = ['read', 'write', 'checkpoint']\n",
    "# title = 'Volatile memory accesses'\n",
    "# normalizationBmark = \"nacho-naive\"\n",
    "\n",
    "# stats_plotted = ['nvm_reads', 'nvm_writes']\n",
    "# stats_desc = ['reads', 'writes']\n",
    "# title = 'Non volatile memory access'\n",
    "# normalizationBmark = \"nacho-naive\"\n",
    "\n",
    "stats_plotted = ['checkpoint_war', 'checkpoint_dirty', 'checkpoint_period']\n",
    "stats_desc = ['WAR', 'ditry ratio', 'period']\n",
    "title = 'Number of Checkpoints'\n",
    "normalizationBmark = \"nacho-naive\"\n",
    "isCheckpoints = True\n",
    "\n",
    "# Do the actual plotting\n",
    "cache_config_used = \"-256-2-\"\n",
    "plotStatPerBenchmark(ax[0], stats_plotted, normalizationBmark, title);\n",
    "\n",
    "cache_config_used = \"-512-2-\"\n",
    "plotStatPerBenchmark(ax[1], stats_plotted, normalizationBmark, title);\n",
    "\n",
    "cache_config_used = \"-1024-2-\"\n",
    "plotStatPerBenchmark(ax[2], stats_plotted, normalizationBmark, title);\n",
    "\n",
    "# For the legend\n",
    "n=[];\n",
    "h,l = ax[1].get_legend_handles_labels();\n",
    "labels = Configurations;\n",
    "\n",
    "for i in range(len(Benchmarks)):\n",
    "    n.append(ax[1].bar(0, 0, color=StackedBarColors[i][3]));\n",
    "\n",
    "if labels is not None:\n",
    "    l2 = plt.legend(n, labels, bbox_to_anchor=(0., -0.222, 1., .102), \n",
    "            loc='center',\n",
    "            ncol=4);\n",
    "# axTop.add_artist(l2)\n",
    "\n",
    "if isCheckpoints is not True:\n",
    "    # Add a manual legend for the stats\n",
    "    for a in ax:\n",
    "        ybase = ylegend\n",
    "        idx = 0\n",
    "        xbase = 4.75\n",
    "        a.add_patch(Rectangle((xbase-0.08, ybase-0.08), 1, 0.1 * len(stats_desc) + 0.2, fill=False));\n",
    "        for e in stats_plotted:\n",
    "            statsLegend = a.add_patch(Rectangle((xbase, ybase), 0.2, 0.05));\n",
    "            statsLegend.set(color=StackedBarColors[3][3 - idx], alpha=1 - 0.15 * idx);\n",
    "            a.text(xbase + 0.25, ybase, stats_desc[idx], fontsize='small');\n",
    "            ybase = ybase + 0.1;\n",
    "            idx = idx + 1;\n",
    "        a.text(xbase, ybase+0.02, \"Accesses during a\", fontsize='small');"
   ]
  },
  {
   "cell_type": "code",
   "execution_count": 328,
   "id": "357648f7",
   "metadata": {
    "scrolled": true
   },
   "outputs": [
    {
     "data": {
      "text/plain": [
       "(0.0, 1.0)"
      ]
     },
     "execution_count": 328,
     "metadata": {},
     "output_type": "execute_result"
    },
    {
     "data": {
      "text/plain": [
       "(-0.25, 5.85)"
      ]
     },
     "execution_count": 328,
     "metadata": {},
     "output_type": "execute_result"
    },
    {
     "data": {
      "text/plain": [
       "(0.0, 1.0)"
      ]
     },
     "execution_count": 328,
     "metadata": {},
     "output_type": "execute_result"
    },
    {
     "data": {
      "text/plain": [
       "(-0.25, 5.85)"
      ]
     },
     "execution_count": 328,
     "metadata": {},
     "output_type": "execute_result"
    },
    {
     "data": {
      "text/plain": [
       "(0.0, 1.0)"
      ]
     },
     "execution_count": 328,
     "metadata": {},
     "output_type": "execute_result"
    },
    {
     "data": {
      "text/plain": [
       "(-0.25, 5.85)"
      ]
     },
     "execution_count": 328,
     "metadata": {},
     "output_type": "execute_result"
    },
    {
     "data": {
      "text/plain": [
       "[<matplotlib.axis.XTick at 0x7f164d3934c0>,\n",
       " <matplotlib.axis.XTick at 0x7f164d393490>,\n",
       " <matplotlib.axis.XTick at 0x7f164d2b93a0>,\n",
       " <matplotlib.axis.XTick at 0x7f164d2b9970>,\n",
       " <matplotlib.axis.XTick at 0x7f164d2c0100>,\n",
       " <matplotlib.axis.XTick at 0x7f164d2c0850>]"
      ]
     },
     "execution_count": 328,
     "metadata": {},
     "output_type": "execute_result"
    },
    {
     "data": {
      "text/plain": [
       "<matplotlib.patches.Rectangle at 0x7f164d362610>"
      ]
     },
     "execution_count": 328,
     "metadata": {},
     "output_type": "execute_result"
    },
    {
     "data": {
      "text/plain": [
       "[None, None]"
      ]
     },
     "execution_count": 328,
     "metadata": {},
     "output_type": "execute_result"
    },
    {
     "data": {
      "text/plain": [
       "Text(5.0, 1.2, 'read')"
      ]
     },
     "execution_count": 328,
     "metadata": {},
     "output_type": "execute_result"
    },
    {
     "data": {
      "text/plain": [
       "[None, None]"
      ]
     },
     "execution_count": 328,
     "metadata": {},
     "output_type": "execute_result"
    },
    {
     "data": {
      "text/plain": [
       "Text(5.0, 1.3, 'write')"
      ]
     },
     "execution_count": 328,
     "metadata": {},
     "output_type": "execute_result"
    },
    {
     "data": {
      "text/plain": [
       "[None, None]"
      ]
     },
     "execution_count": 328,
     "metadata": {},
     "output_type": "execute_result"
    },
    {
     "data": {
      "text/plain": [
       "Text(5.0, 1.4000000000000001, 'checkpoint')"
      ]
     },
     "execution_count": 328,
     "metadata": {},
     "output_type": "execute_result"
    },
    {
     "data": {
      "text/plain": [
       "Text(4.75, 1.5200000000000002, 'Accesses during a')"
      ]
     },
     "execution_count": 328,
     "metadata": {},
     "output_type": "execute_result"
    },
    {
     "data": {
      "image/png": "[encoded data removed]",
      "text/plain": [
       "<Figure size 720x864 with 3 Axes>"
      ]
     },
     "metadata": {
      "image/png": {
       "height": 896,
       "width": 719
      },
      "needs_background": "light"
     },
     "output_type": "display_data"
    }
   ],
   "source": [
    "\n",
    "fig, ax = plt.subplots(nrows=3, ncols=1, sharex=True, figsize=(10,12));\n",
    "fig.tight_layout(pad=1);\n",
    "ylegend = 1.2\n",
    "for a in ax:\n",
    "    a.set_ylim(auto=True)\n",
    "    a.set_xlim(-0.25,5.85);\n",
    "    a.margins(x=0);\n",
    "    a.spines['right'].set_visible(False);\n",
    "    a.spines['top'].set_visible(False);\n",
    "\n",
    "ax[0].set_xticks(X + 0.25, Benchmarks);\n",
    "isCheckpoints = False\n",
    "\n",
    "# Uncomment/change what stats which are needed to be plotted\n",
    "stats_plotted = ['cache_read', 'cache_write', 'cache_checkpoint']\n",
    "stats_desc = ['read', 'write', 'checkpoint']\n",
    "title = 'Volatile memory accesses'\n",
    "normalizationBmark = \"nacho-clank\"\n",
    "\n",
    "# stats_plotted = ['nvm_reads', 'nvm_writes']\n",
    "# stats_desc = ['reads', 'writes']\n",
    "# title = 'Non volatile memory access'\n",
    "# normalizationBmark = \"nacho-naive\"\n",
    "\n",
    "# stats_plotted = ['checkpoint_war', 'checkpoint_dirty', 'checkpoint_period']\n",
    "# stats_desc = ['WAR', 'ditry ratio', 'period']\n",
    "# title = 'Number of Checkpoints'\n",
    "# normalizationBmark = \"nacho-naive\"\n",
    "# isCheckpoints = True\n",
    "\n",
    "# Do the actual plotting\n",
    "cache_config_used = \"-256-2-\"\n",
    "plotStatPerBenchmark(ax[0], stats_plotted, normalizationBmark, title);\n",
    "\n",
    "cache_config_used = \"-512-2-\"\n",
    "plotStatPerBenchmark(ax[1], stats_plotted, normalizationBmark, title);\n",
    "\n",
    "cache_config_used = \"-1024-2-\"\n",
    "plotStatPerBenchmark(ax[2], stats_plotted, normalizationBmark, title);\n",
    "\n",
    "# For the legend\n",
    "n=[];\n",
    "h,l = ax[1].get_legend_handles_labels();\n",
    "labels = Configurations;\n",
    "\n",
    "for i in range(len(Benchmarks)):\n",
    "    n.append(ax[1].bar(0, 0, color=StackedBarColors[i][3]));\n",
    "\n",
    "if labels is not None:\n",
    "    l2 = plt.legend(n, labels, bbox_to_anchor=(0., -0.222, 1., .102), \n",
    "            loc='center',\n",
    "            ncol=4);\n",
    "# axTop.add_artist(l2)\n",
    "\n",
    "if isCheckpoints is not True:\n",
    "    # Add a manual legend for the stats\n",
    "    for a in ax[0:1]:\n",
    "        ybase = ylegend\n",
    "        idx = 0\n",
    "        xbase = 4.75\n",
    "        a.add_patch(Rectangle((xbase-0.08, ybase-0.08), 1, 0.1 * len(stats_desc) + 0.2, fill=False));\n",
    "        for e in stats_plotted:\n",
    "            statsLegend = a.add_patch(Rectangle((xbase, ybase), 0.2, 0.05));\n",
    "            statsLegend.set(color=StackedBarColors[3][3 - idx], alpha=1 - 0.15 * idx);\n",
    "            a.text(xbase + 0.25, ybase, stats_desc[idx], fontsize='small');\n",
    "            ybase = ybase + 0.1;\n",
    "            idx = idx + 1;\n",
    "        a.text(xbase, ybase+0.02, \"Accesses during a\", fontsize='small');"
   ]
  },
  {
   "cell_type": "code",
   "execution_count": null,
   "id": "eb833970",
   "metadata": {},
   "outputs": [],
   "source": []
  },
  {
   "cell_type": "code",
   "execution_count": null,
   "id": "billion-variable",
   "metadata": {},
   "outputs": [],
   "source": [
    "#df['sha'] = df['sha'].reindex(ConfigurationNameMap)\n",
    "df['nacho']['aes'].reindex(ConfigurationNameMap)"
   ]
  },
  {
   "cell_type": "code",
   "execution_count": null,
   "id": "standing-soundtrack",
   "metadata": {},
   "outputs": [],
   "source": [
    "dfa = pd.DataFrame()\n",
    "for bench in Benchmarks:\n",
    "    dfa[BenchmarkNameMap[bench]] = df[bench].reindex(ConfigurationNameMap)['Execution']\n",
    "    \n",
    "dfa.rename(index=ConfigurationNameMap, inplace=True)\n",
    "dfa"
   ]
  },
  {
   "cell_type": "code",
   "execution_count": null,
   "id": "proved-destiny",
   "metadata": {},
   "outputs": [],
   "source": [
    "mean_ratchet = dfa.T[ConfigurationNameMap['opt-ratchet']].mean()\n",
    "mean_baseline = dfa.T[ConfigurationNameMap['opt-baseline']].mean()\n",
    "mean_opt_all = dfa.T[ConfigurationNameMap['opt-all-expander']].mean()"
   ]
  },
  {
   "cell_type": "code",
   "execution_count": null,
   "id": "extreme-store",
   "metadata": {},
   "outputs": [],
   "source": [
    "from statistics import mean\n",
    "\n",
    "color_list = [ConfigurationColorMap[c] for c in Configurations]\n",
    "\n",
    "bars = dfa.T.plot(kind='bar', ylim=(0,None), figsize=(13,2.9), color=color_list, edgecolor='white', linewidth=1)\n",
    "plt.xticks(rotation=0)\n",
    "\n",
    "handles, labels = bars.get_legend_handles_labels()\n",
    "\n",
    "# Average for Ratchet and Opt-All\n",
    "mean_ratchet_line = plt.axhline(y = mean_ratchet, color = ConfigurationColorMap['opt-ratchet'], \n",
    "                                linestyle = ':', label='Ratchet avg.')\n",
    "mean_baseline_line = plt.axhline(y = mean_baseline, color = ConfigurationColorMap['opt-baseline'],\n",
    "                                 linestyle = '--', label='R-PDG avg.')\n",
    "mean_opt_all_line = plt.axhline(y = mean_opt_all, color = ConfigurationColorMap['opt-all-expander'],\n",
    "                                linestyle = '--',label=r'\\textbf{WARio} avg.')\n",
    "\n",
    "# Add a line for the uninstrumented version (at 1)\n",
    "plain_c_line = plt.axhline(y = 1, color =  Color['darkgrey'],\n",
    "                                linestyle = '--',label=r'Uninstrumented C')\n",
    "\n",
    "# Manually place the average lines at the end of the legend\n",
    "handles.extend([mean_ratchet_line, mean_baseline_line, mean_opt_all_line, plain_c_line])\n",
    "\n",
    "ratchet_bar_label_values = []\n",
    "baseline_bar_label_values = []\n",
    "\n",
    "# Iterate through the benchmarks (in order)\n",
    "for idx, bench in enumerate(Benchmarks):\n",
    "    # Skip some benchmark(s)\n",
    "    skip = ['dijkstra']\n",
    "    if bench in skip:\n",
    "        continue\n",
    "        \n",
    "    overhead_ratchet_perc = df[bench]['Overhead-ratchet-%']['opt-all-expander']\n",
    "    overhead_baseline_perc = df[bench]['Overhead-baseline-%']['opt-all-expander']\n",
    "    execution_value = df[bench]['Execution']['opt-all-expander']\n",
    "    \n",
    "    def add_bar_label(text, text_loc, textcolor='black', facecolor='white', edgecolor='black', fontsize=11, draw_arrow=False):\n",
    "        if draw_arrow == True:\n",
    "            arrowprops = dict(arrowstyle='-|>', fc='black', connectionstyle='angle,angleA=0,angleB=90,rad=3')\n",
    "        else:\n",
    "            arrowprops = None\n",
    "        \n",
    "        plt.annotate(text, xy=(idx+0.225, execution_value), xytext=text_loc,\n",
    "            color=textcolor,\n",
    "            xycoords=('data'), textcoords='offset points', fontsize=fontsize,\n",
    "            horizontalalignment='right', verticalalignment='center',\n",
    "            bbox=dict(facecolor=facecolor, linewidth='1', edgecolor=edgecolor),\n",
    "            arrowprops=arrowprops,\n",
    "        )\n",
    "        \n",
    "    add_bar_label('{:02.1f}\\%'.format(overhead_ratchet_perc),\n",
    "                  text_loc=(50,32),\n",
    "                  fontsize=11,\n",
    "                  textcolor='white',\n",
    "                  edgecolor=ConfigurationColorMap['opt-ratchet'],\n",
    "                  facecolor=ConfigurationColorMap['opt-ratchet'],\n",
    "                  draw_arrow=False)\n",
    "    add_bar_label('\\\\textbf{'+'{:02.1f}\\%'.format(overhead_baseline_perc)+'}',\n",
    "                  text_loc=(50, 18),\n",
    "                  fontsize=12,\n",
    "                  edgecolor=ConfigurationColorMap['opt-baseline'],\n",
    "                  facecolor=ConfigurationColorMap['opt-baseline'],\n",
    "                  draw_arrow=True)\n",
    "    \n",
    "    ratchet_bar_label_values.append(overhead_ratchet_perc)\n",
    "    baseline_bar_label_values.append(overhead_baseline_perc)\n",
    "    \n",
    "\n",
    "# Annotate the average lines\n",
    "# Transformations\n",
    "plt.annotate('', xy=(4.6, mean_opt_all-0.1), xytext=(4.6,mean_baseline+0.1),\n",
    "             arrowprops=dict(arrowstyle='<|-|>', fc='black'))\n",
    "reduction_perc = (mean_baseline-mean_opt_all)/mean_baseline * 100\n",
    "plt.annotate('-{:02.1f}\\%'.format(reduction_perc), xy=(4.6, mean_opt_all+(mean_baseline-mean_opt_all)/2), \n",
    "             xytext=(-5,-2), textcoords='offset points',\n",
    "             fontsize=12,\n",
    "             horizontalalignment='right', verticalalignment='center')\n",
    "\n",
    "\n",
    "# PDG\n",
    "plt.annotate('', xy=(4.6, mean_baseline-0.1), xytext=(4.6,mean_ratchet+0.1),\n",
    "             arrowprops=dict(arrowstyle='<|-|>', fc='darkgrey', edgecolor='darkgrey'))\n",
    "reduction_perc = (mean_ratchet-mean_baseline)/mean_ratchet * 100\n",
    "plt.annotate('-{:02.1f}\\%'.format(reduction_perc), xy=(4.6, mean_baseline+(mean_ratchet-mean_baseline)/2), \n",
    "             xytext=(-5,0), textcoords='offset points',\n",
    "             fontsize=12,\n",
    "             horizontalalignment='right', verticalalignment='center')\n",
    "\n",
    "# Combined\n",
    "plt.annotate('', xy=(4.15, mean_opt_all-0.1), xytext=(4.15,mean_ratchet+0.1),\n",
    "             arrowprops=dict(arrowstyle='<|-|>', fc='black'))\n",
    "reduction_perc = (mean_ratchet-mean_opt_all)/mean_ratchet * 100\n",
    "plt.annotate('\\\\textbf{'+'-{:02.1f}\\%'.format(reduction_perc)+'}', xy=(4.15, mean_opt_all+(mean_ratchet-mean_opt_all)/2), \n",
    "             xytext=(-5,-2), textcoords='offset points',\n",
    "             fontsize=12,\n",
    "             horizontalalignment='right', verticalalignment='center')\n",
    "\n",
    "#plt.subplots_adjust(right=1.3)\n",
    "plt.xlim(-0.4, len(Benchmarks)-1+0.7)\n",
    "\n",
    "# Add the legend\n",
    "plt.legend(handles=handles, bbox_to_anchor=(0, 1.04, 1.18, 0), loc=\"upper right\", fancybox=True, ncol=1, fontsize=10)\n",
    "\n",
    "# Place a box arround the sub-components of the legend\n",
    "rect = Rectangle( (5.74, 2.9), 1.02, 1.5, linewidth=1.1, linestyle='dashed', fill=None, clip_on=False, zorder=200, color=Color['blue'], alpha=0.9)\n",
    "plt.gca().add_patch(rect)\n",
    "\n",
    "# Add some rotated text on the box\n",
    "plt.gca().text(6.76,3, r'\\textbf{WARio}', color=Color['blue'], rotation=-90, fontsize=13, zorder=200)\n",
    "\n",
    "# Add a second legend with the averages for the percent blocks\n",
    "plt.annotate(r'\\textbf{-xx.x\\%}', xy=(0.1, 4.9), xytext=(0,0),\n",
    "    color='white',\n",
    "    xycoords=('data'), textcoords='offset points', fontsize=13,\n",
    "    horizontalalignment='right', verticalalignment='center',\n",
    "    bbox=dict(facecolor=ConfigurationColorMap['opt-ratchet'], edgecolor=ConfigurationColorMap['opt-ratchet'], linewidth='1'),\n",
    "    arrowprops=None)\n",
    "plt.annotate(r'checkpoint overhead compared to Ratchet', xy=(0.1, 4.9), xytext=(10,-0.8),\n",
    "    color='black',\n",
    "    xycoords=('data'), textcoords='offset points', fontsize=12,\n",
    "    horizontalalignment='left', verticalalignment='center',\n",
    "    bbox=dict(facecolor='white', edgecolor='white', linewidth='0'),\n",
    "    arrowprops=None)\n",
    "avg_ratchet = mean(ratchet_bar_label_values)\n",
    "plt.annotate(r'\\textbf{'+'-{:02.1f}\\%'.format(avg_ratchet)+'} on average', xy=(1.07, 4.3), xytext=(0,0),\n",
    "    color='black',\n",
    "    xycoords=('data'), textcoords='offset points', fontsize=13,\n",
    "    horizontalalignment='right', verticalalignment='center',\n",
    "    bbox=dict(facecolor='white', edgecolor='white', linewidth='0'),\n",
    "    arrowprops=None)\n",
    "\n",
    "plt.annotate(r'\\textbf{-yy.y\\%}', xy=(2.9, 4.9), xytext=(0,0),\n",
    "    color='black',\n",
    "    xycoords=('data'), textcoords='offset points', fontsize=13,\n",
    "    horizontalalignment='right', verticalalignment='center',\n",
    "    bbox=dict(facecolor=ConfigurationColorMap['opt-baseline'], edgecolor=ConfigurationColorMap['opt-baseline'], linewidth='1'),\n",
    "    arrowprops=None)\n",
    "plt.annotate(r'checkpoint overhead compared to R-PDG', xy=(2.9, 4.9), xytext=(10,-0.8),\n",
    "    color='black',\n",
    "    xycoords=('data'), textcoords='offset points', fontsize=12,\n",
    "    horizontalalignment='left', verticalalignment='center',\n",
    "    bbox=dict(facecolor='white', edgecolor='white', linewidth='0'),\n",
    "    arrowprops=None)\n",
    "avg_baseline = mean(baseline_bar_label_values)\n",
    "plt.annotate(r'\\textbf{'+'-{:02.1f}\\%'.format(avg_baseline)+'} on average', xy=(3.87, 4.3), xytext=(0,0),\n",
    "    color='black',\n",
    "    xycoords=('data'), textcoords='offset points', fontsize=13,\n",
    "    horizontalalignment='right', verticalalignment='center',\n",
    "    bbox=dict(facecolor='white', edgecolor='white', linewidth='0'),\n",
    "    arrowprops=None)\n",
    "\n",
    "# Increase the figure height just a bit\n",
    "plt.gca().set_ylim(0, plt.gca().get_ylim()[1]+0.1)\n",
    "\n",
    "# Set the axis\n",
    "plt.ylabel('normalized execution time', fontsize=13)\n",
    "\n",
    "# Show the plot\n",
    "plt.tight_layout()\n",
    "plt.show()\n"
   ]
  },
  {
   "cell_type": "code",
   "execution_count": null,
   "id": "opened-assets",
   "metadata": {},
   "outputs": [],
   "source": [
    "# Save the figure\n",
    "fig = bars.get_figure()\n",
    "fig.savefig('plots/benchmark-comparison.pdf')"
   ]
  },
  {
   "cell_type": "code",
   "execution_count": null,
   "id": "plain-bargain",
   "metadata": {},
   "outputs": [],
   "source": [
    "\n",
    "\n",
    "# Create the checkpoint figure\n",
    "\n"
   ]
  },
  {
   "cell_type": "code",
   "execution_count": null,
   "id": "occupied-aurora",
   "metadata": {},
   "outputs": [],
   "source": [
    "for bench in Benchmarks:\n",
    "    #cps = df[bench]['Checkpoints']['opt-baseline']-1\n",
    "    dfb = df[bench]\n",
    "    cps = (dfb['IR-checkpoints']+dfb['Call-checkpoints']+dfb['Pop-checkpoints']+dfb['Spill-checkpoints'])['opt-baseline']\n",
    "    dfb['IR-checkpoints-%'] =  dfb['IR-checkpoints']/cps*100\n",
    "    dfb['Call-checkpoints-%'] =  dfb['Call-checkpoints']/cps*100\n",
    "    dfb['Pop-checkpoints-%'] =  dfb['Pop-checkpoints']/cps*100\n",
    "    dfb['Spill-checkpoints-%'] =  dfb['Spill-checkpoints']/cps*100\n",
    "\n",
    "df['coremark']"
   ]
  },
  {
   "cell_type": "code",
   "execution_count": null,
   "id": "upset-pathology",
   "metadata": {},
   "outputs": [],
   "source": [
    "dfc = {}\n",
    "plot = ['IR-checkpoints-%', 'Spill-checkpoints-%', 'Call-checkpoints-%', 'Pop-checkpoints-%']\n",
    "\n",
    "for p in plot:\n",
    "    dfc[p] = pd.DataFrame()\n",
    "    for bench in Benchmarks:\n",
    "        dfc[p][BenchmarkNameMap[bench]] = df[bench].reindex(Configurations)[p]\n",
    "    \n",
    "    dfc[p].rename(index=ConfigurationNameMap, inplace=True)\n",
    "    dfc[p].drop('Ratchet', inplace=True)\n",
    "    \n",
    "\n",
    "dfc[plot[1]]"
   ]
  },
  {
   "cell_type": "code",
   "execution_count": null,
   "id": "sustained-primary",
   "metadata": {},
   "outputs": [],
   "source": [
    "from matplotlib.patches import Patch\n",
    "\n",
    "ax = plt.figure(figsize=(13,2.7)).add_subplot(111)\n",
    "\n",
    "cc = [ConfigurationColorMap[c] for c in Configurations[1:]]\n",
    "labels = [ConfigurationNameMap[c] for c in Configurations[1:]]\n",
    "width = 0.5\n",
    "lw = 1.4\n",
    "\n",
    "def patchwork(ax, hatch):\n",
    "    for bar in ax.patches:\n",
    "        if bar.get_hatch() == None: \n",
    "            bar.set_hatch(hatch)\n",
    "            \n",
    "def plot_bar(N):\n",
    "    D = dfc[plot[0]]\n",
    "    for n in range(1, N+1):\n",
    "        D = D + dfc[plot[n]]\n",
    "        \n",
    "    D.T.plot(kind='bar', ax=ax, color=cc, width=width, edgecolor='white', legend=None, linewidth=lw)\n",
    "    patchwork(ax, hatch_map[plot[N]])\n",
    "\n",
    "hatch_map = {\n",
    "    'IR-checkpoints-%': '',\n",
    "    'Spill-checkpoints-%': 'xxx',\n",
    "    'Call-checkpoints-%': '...',\n",
    "    'Pop-checkpoints-%': '///'\n",
    "}\n",
    "\n",
    "# Plot the overlapping bars\n",
    "plot_bar(3)\n",
    "plot_bar(2)\n",
    "plot_bar(1)\n",
    "plot_bar(0)\n",
    "\n",
    "# Plot the description of the crc benchmark\n",
    "props = dict(boxstyle='round', facecolor=Color['cyan'], alpha=0.2)\n",
    "text =  'almost no\\nmiddle end\\ncheckpoints\\nto optimize'\n",
    "plt.annotate(text, xy=(1.72, 2), xytext=(-32, 130),\n",
    "        transform=ax.transAxes, textcoords='offset points', fontsize=11,\n",
    "        horizontalalignment='center', verticalalignment='top',\n",
    "        bbox=props,\n",
    "        arrowprops=dict(arrowstyle='-|>', fc='black', connectionstyle='angle,angleA=90,angleB=-45,rad=5'),\n",
    ")\n",
    "props = dict(boxstyle='round', facecolor=Color['cyan'], alpha=0.2)\n",
    "#text =  '\\\\textbf{many}\\n\\\\textbf{middle end}\\n\\\\textbf{checkpoints}\\n\\\\textbf{optimized}\\n\\\\textbf{away}'\n",
    "text =  'many\\nmiddle end\\ncheckpoints\\noptimized\\naway'\n",
    "plt.annotate(text, xy=(3.215, 8), xytext=(27, 122),\n",
    "        transform=ax.transAxes, textcoords='offset points', fontsize=11,\n",
    "        horizontalalignment='center', verticalalignment='top',\n",
    "        bbox=props,\n",
    "        arrowprops=dict(arrowstyle='-|>', fc='black', connectionstyle='angle,angleA=90,angleB=45,rad=5'),\n",
    ")\n",
    "\n",
    "plt.xticks(rotation=0)\n",
    "\n",
    "handles = []\n",
    "handles.append(Patch(label='middle end WARs (\\%)', hatch=hatch_map['IR-checkpoints-%'],\n",
    "                     facecolor='none', edgecolor='black', linewidth=lw))\n",
    "handles.append(Patch(label='back end WARs (\\%)', hatch=hatch_map['Spill-checkpoints-%'],\n",
    "                     facecolor='none', edgecolor='black', linewidth=lw))\n",
    "handles.append(Patch(label='function entry (\\%)', hatch=hatch_map['Call-checkpoints-%'],\n",
    "                     facecolor='none', edgecolor='black', linewidth=lw))\n",
    "handles.append(Patch(label='function exit (\\%)', hatch=hatch_map['Pop-checkpoints-%'],\n",
    "                     facecolor='none', edgecolor='black', linewidth=lw))\n",
    "handles.reverse()\n",
    "\n",
    "for idx, l in enumerate(labels):\n",
    "    handles.append(Patch(label=l, color=cc[idx]))\n",
    "\n",
    "ax.legend(handles=handles, bbox_to_anchor=(0.018, 1.04, 1.17, 0), loc=\"upper right\", ncol=1, fontsize=9.6)\n",
    "\n",
    "# Place a box arround the sub-components of the legend\n",
    "rect = Rectangle( (5.53, 22.3), 1.06, 30.5, linewidth=1.1, linestyle='dashed', fill=None, clip_on=False, zorder=200, color=Color['blue'], alpha=0.9)\n",
    "plt.gca().add_patch(rect)\n",
    "\n",
    "# Add some rotated text on the box\n",
    "plt.gca().text(6.6,24, r'\\textbf{WARio}', color=Color['blue'], rotation=-90, fontsize=13, zorder=200)\n",
    "\n",
    "#plt.xlabel('benchmark')\n",
    "plt.ylabel(r'checkpoint cause (\\%)', fontsize=13)\n",
    "\n",
    "plt.tight_layout()\n",
    "plt.show()"
   ]
  },
  {
   "cell_type": "code",
   "execution_count": null,
   "id": "light-magazine",
   "metadata": {},
   "outputs": [],
   "source": [
    "# Save the figure\n",
    "fig = ax.get_figure()\n",
    "fig.savefig('plots/benchmark-checkpoint-distribution.pdf')"
   ]
  },
  {
   "cell_type": "code",
   "execution_count": null,
   "id": "simplified-laundry",
   "metadata": {},
   "outputs": [],
   "source": [
    "# \n",
    "# Create the table for the .elf sizes\n",
    "#"
   ]
  },
  {
   "cell_type": "code",
   "execution_count": null,
   "id": "previous-chemical",
   "metadata": {},
   "outputs": [],
   "source": [
    "ColumnNames=[r'\\textbf{Ratchet}', r'\\textbf{WARio}', r'\\textbf{WARio\\,+\\,\\texttt{Expander}}']\n",
    "avg_ratchet = 0.0\n",
    "avg_wario = 0.0\n",
    "avg_wario_exp = 0.0\n",
    "\n",
    "tex=''\n",
    "def tex_addl(t):\n",
    "    global tex\n",
    "    tex += t + '\\n'\n",
    "    \n",
    "def tex_add(t):\n",
    "    global tex\n",
    "    tex += t\n",
    "\n",
    "tex_addl(r'% table automatically generated by BenchmarkPlot.ipynb')\n",
    "tex_addl(r'\\begin{tabular}{@{}lrrr@{}}')\n",
    "tex_addl(r'\\toprule')\n",
    "\n",
    "# One empty cell\n",
    "# add the names of the configurations\n",
    "for n in ColumnNames:\n",
    "    tex_add(' & ' + n)\n",
    "tex_addl(r' \\\\ \\midrule')\n",
    "\n",
    "# Add the benchmark columns\n",
    "for bench in Benchmarks:\n",
    "    # Get the numbers\n",
    "    #print(bench)\n",
    "    uninstr = df[bench].loc['uninstrumented']['ELF-size']\n",
    "    ratchet = df[bench].loc['opt-ratchet']['ELF-size']\n",
    "    wario = df[bench].loc['opt-all']['ELF-size']\n",
    "    wario_exp = df[bench].loc['opt-all-expander']['ELF-size']\n",
    "      \n",
    "    ratchet = (ratchet-uninstr)/uninstr*100.0\n",
    "    wario = (wario-uninstr)/uninstr*100.0\n",
    "    wario_exp = (wario_exp-uninstr)/uninstr*100.0\n",
    "    \n",
    "    avg_ratchet += ratchet\n",
    "    avg_wario += wario\n",
    "    avg_wario_exp += wario_exp\n",
    "    \n",
    "    ratchet = '{:.1f}'.format(ratchet)\n",
    "    wario = '{:.1f}'.format(wario)\n",
    "    wario_exp = '{:.1f}'.format(wario_exp)\n",
    "    \n",
    "    tex_add(r'\\textsf{'+BenchmarkNameMap[bench]+'}')\n",
    "    tex_add(' & +'+ratchet+'\\%')\n",
    "    tex_add(' & +'+wario+'\\%')\n",
    "    tex_add(' & +'+wario_exp+'\\%')\n",
    "    tex_addl(r' \\\\')\n",
    "    \n",
    "tex_addl(r' \\midrule')\n",
    "\n",
    "# Add the average\n",
    "tex_add(r'\\emph{average}')\n",
    "\n",
    "avg_ratchet = avg_ratchet/len(Benchmarks)\n",
    "avg_wario = avg_wario/len(Benchmarks)\n",
    "avg_wario_exp = avg_wario_exp/len(Benchmarks)\n",
    "\n",
    "avg_ratchet = '{:.1f}'.format(avg_ratchet)\n",
    "avg_wario = '{:.1f}'.format(avg_wario)\n",
    "avg_wario_exp = '{:.1f}'.format(avg_wario_exp)\n",
    "\n",
    "tex_add(' & +'+avg_ratchet+'\\%')\n",
    "tex_add(' & +'+avg_wario+'\\%')\n",
    "tex_add(' & +'+avg_wario_exp+'\\%')\n",
    "tex_addl(r' \\\\ \\bottomrule')\n",
    "\n",
    "# End the table\n",
    "tex_addl(r'\\end{tabular}')\n",
    "    \n",
    "print(tex)\n",
    "# Save the table\n",
    "with open('plots/elfsize-table.tex', \"w\") as f:\n",
    "    # Writing data to a file\n",
    "    f.write(tex)"
   ]
  },
  {
   "cell_type": "code",
   "execution_count": null,
   "id": "c08514f6-d5d8-4d34-ae10-069676a719cc",
   "metadata": {},
   "outputs": [],
   "source": [
    "len(Benchmarks)"
   ]
  },
  {
   "cell_type": "code",
   "execution_count": null,
   "id": "special-wealth",
   "metadata": {},
   "outputs": [],
   "source": [
    "# Create a table for the checkpoint + reduction\n",
    "\n",
    "ColumnNames=[r'\\textbf{WARio}', r'\\textbf{WARio\\,+\\,\\texttt{Expander}}']\n",
    "avg_wario = 0.0\n",
    "avg_wario_exp = 0.0\n",
    "\n",
    "tex=''\n",
    "def tex_addl(t):\n",
    "    global tex\n",
    "    tex += t + '\\n'\n",
    "    \n",
    "def tex_add(t):\n",
    "    global tex\n",
    "    tex += t\n",
    "\n",
    "tex_addl(r'% table automatically generated by BenchmarkPlot.ipynb')\n",
    "tex_addl(r'\\begin{tabular}{@{}lrr@{}}')\n",
    "tex_addl(r'\\toprule')\n",
    "\n",
    "# One empty cell\n",
    "# add the names of the configurations\n",
    "for n in ColumnNames:\n",
    "    tex_add(' & ' + n)\n",
    "tex_addl(r' \\\\ \\midrule')\n",
    "\n",
    "# Add the benchmark columns\n",
    "for bench in Benchmarks:\n",
    "    # Get the numbers\n",
    "    #print(bench)\n",
    "    ratchet = df[bench].loc['opt-ratchet']['Checkpoints']\n",
    "    wario = df[bench].loc['opt-all']['Checkpoints']\n",
    "    wario_exp = df[bench].loc['opt-all-expander']['Checkpoints']\n",
    "      \n",
    "    wario = (wario-ratchet)/ratchet*100.0\n",
    "    wario_exp = (wario_exp-ratchet)/ratchet*100.0\n",
    "    \n",
    "    avg_wario += wario\n",
    "    avg_wario_exp += wario_exp\n",
    "    \n",
    "    wario = '{:.1f}'.format(wario)\n",
    "    wario_exp = '{:.1f}'.format(wario_exp)\n",
    "    \n",
    "    tex_add(r'\\textsf{'+BenchmarkNameMap[bench]+'}')\n",
    "    tex_add(' & '+wario+'\\%')\n",
    "    tex_add(' & '+wario_exp+'\\%')\n",
    "    tex_addl(r' \\\\')\n",
    "    \n",
    "tex_addl(r' \\midrule')\n",
    "\n",
    "# Add the average\n",
    "tex_add(r'\\emph{average}')\n",
    "\n",
    "avg_wario = avg_wario/len(Benchmarks)\n",
    "avg_wario_exp = avg_wario_exp/len(Benchmarks)\n",
    "\n",
    "avg_wario = '{:.1f}'.format(avg_wario)\n",
    "avg_wario_exp = '{:.1f}'.format(avg_wario_exp)\n",
    "\n",
    "tex_add(' & '+avg_wario+'\\%')\n",
    "tex_add(' & '+avg_wario_exp+'\\%')\n",
    "tex_addl(r' \\\\ \\bottomrule')\n",
    "\n",
    "# End the table\n",
    "tex_addl(r'\\end{tabular}')\n",
    "    \n",
    "print(tex)\n",
    "# Save the table\n",
    "with open('plots/executed-checkpoint-table.tex', \"w\") as f:\n",
    "    # Writing data to a file\n",
    "    f.write(tex)"
   ]
  },
  {
   "cell_type": "code",
   "execution_count": null,
   "id": "5af4beca-b6f2-4195-8faa-e2c1021be6a3",
   "metadata": {},
   "outputs": [],
   "source": []
  }
 ],
 "metadata": {
  "kernelspec": {
   "display_name": "Python 3.8.10 64-bit",
   "language": "python",
   "name": "python3"
  },
  "language_info": {
   "codemirror_mode": {
    "name": "ipython",
    "version": 3
   },
   "file_extension": ".py",
   "mimetype": "text/x-python",
   "name": "python",
   "nbconvert_exporter": "python",
   "pygments_lexer": "ipython3",
   "version": "3.8.10"
  },
  "vscode": {
   "interpreter": {
    "hash": "916dbcbb3f70747c44a77c7bcd40155683ae19c65e1c03b4aa3499c5328201f1"
   }
  }
 },
 "nbformat": 4,
 "nbformat_minor": 5
}
